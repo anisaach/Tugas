{
  "nbformat": 4,
  "nbformat_minor": 0,
  "metadata": {
    "colab": {
      "provenance": []
    },
    "kernelspec": {
      "name": "python3",
      "display_name": "Python 3"
    },
    "language_info": {
      "name": "python"
    }
  },
  "cells": [
    {
      "cell_type": "code",
      "execution_count": 1,
      "metadata": {
        "id": "lHbzYl7f_3-G"
      },
      "outputs": [],
      "source": [
        "import numpy as np\n",
        "import random\n",
        "import matplotlib.pyplot as plt"
      ]
    },
    {
      "cell_type": "code",
      "source": [
        "from scipy.stats import poisson"
      ],
      "metadata": {
        "id": "CycW9sZv_9eI"
      },
      "execution_count": 2,
      "outputs": []
    },
    {
      "cell_type": "code",
      "source": [
        "turis = [0, 1, 2, 3, 4]\n",
        "#ini jumlah turis yang mungkin datang (4 mewakili 4+)\n",
        "lam = 2 #2 orang setiap 2 menit datang ke ruang tunggu\n",
        "bobot = poisson.pmf(turis, lam)\n",
        "bobot[-1]=1-sum(bobot[:-1])\n",
        "bobot"
      ],
      "metadata": {
        "colab": {
          "base_uri": "https://localhost:8080/"
        },
        "id": "yrVGhh8I__ZG",
        "outputId": "e04bd134-6054-496f-a795-f95e98fd8f16"
      },
      "execution_count": 3,
      "outputs": [
        {
          "output_type": "execute_result",
          "data": {
            "text/plain": [
              "array([0.13533528, 0.27067057, 0.27067057, 0.18044704, 0.14287654])"
            ]
          },
          "metadata": {},
          "execution_count": 3
        }
      ]
    },
    {
      "cell_type": "code",
      "source": [
        "#Matriks Markov (Probabilitas Transisi)\n",
        "P=np.eye(5)\n",
        "P[0,:] = bobot\n",
        "P[1,:] = bobot\n",
        "P[2,:] = bobot\n",
        "P[3,1:] = bobot[:-1]\n",
        "P[3,-1:] = sum(bobot[-2:])\n",
        "P[4,:]=bobot\n",
        "P"
      ],
      "metadata": {
        "colab": {
          "base_uri": "https://localhost:8080/"
        },
        "id": "CPxTtcCJAK9g",
        "outputId": "77c9f055-04dd-4c7e-dc96-3670b11a91aa"
      },
      "execution_count": 12,
      "outputs": [
        {
          "output_type": "execute_result",
          "data": {
            "text/plain": [
              "array([[0.13533528, 0.27067057, 0.27067057, 0.18044704, 0.14287654],\n",
              "       [0.13533528, 0.27067057, 0.27067057, 0.18044704, 0.14287654],\n",
              "       [0.13533528, 0.27067057, 0.27067057, 0.18044704, 0.14287654],\n",
              "       [0.        , 0.13533528, 0.27067057, 0.27067057, 0.32332358],\n",
              "       [0.13533528, 0.27067057, 0.27067057, 0.18044704, 0.14287654]])"
            ]
          },
          "metadata": {},
          "execution_count": 12
        }
      ]
    },
    {
      "cell_type": "code",
      "source": [
        "S=np.eye(5)\n",
        "S"
      ],
      "metadata": {
        "colab": {
          "base_uri": "https://localhost:8080/"
        },
        "id": "oDI0VOhlAQUd",
        "outputId": "718c7395-dfa5-4178-a90a-5f60302ce4ce"
      },
      "execution_count": 13,
      "outputs": [
        {
          "output_type": "execute_result",
          "data": {
            "text/plain": [
              "array([[1., 0., 0., 0., 0.],\n",
              "       [0., 1., 0., 0., 0.],\n",
              "       [0., 0., 1., 0., 0.],\n",
              "       [0., 0., 0., 1., 0.],\n",
              "       [0., 0., 0., 0., 1.]])"
            ]
          },
          "metadata": {},
          "execution_count": 13
        }
      ]
    },
    {
      "cell_type": "code",
      "source": [
        "P4=[]\n",
        "S = np.eye(5)\n",
        "for i in range(10):\n",
        "  S = np.dot(S,P)\n",
        "  P4.append(S[-1,-1])\n",
        "S"
      ],
      "metadata": {
        "colab": {
          "base_uri": "https://localhost:8080/"
        },
        "id": "nXlw_KiQAS_F",
        "outputId": "bdb7e8f5-ab22-4a82-b93a-232b36bc3b12"
      },
      "execution_count": 14,
      "outputs": [
        {
          "output_type": "execute_result",
          "data": {
            "text/plain": [
              "array([[0.10849259, 0.24382787, 0.27067057, 0.19834217, 0.1786668 ],\n",
              "       [0.10849259, 0.24382787, 0.27067057, 0.19834217, 0.1786668 ],\n",
              "       [0.10849259, 0.24382787, 0.27067057, 0.19834217, 0.1786668 ],\n",
              "       [0.10849259, 0.24382787, 0.27067057, 0.19834217, 0.1786668 ],\n",
              "       [0.10849259, 0.24382787, 0.27067057, 0.19834217, 0.1786668 ]])"
            ]
          },
          "metadata": {},
          "execution_count": 14
        }
      ]
    },
    {
      "cell_type": "code",
      "source": [
        "plt.plot(P4,'-o')"
      ],
      "metadata": {
        "colab": {
          "base_uri": "https://localhost:8080/",
          "height": 449
        },
        "id": "JbdFFBMyBQ-I",
        "outputId": "7b0d38f7-4019-46bb-ebdf-91e634717d1b"
      },
      "execution_count": 15,
      "outputs": [
        {
          "output_type": "execute_result",
          "data": {
            "text/plain": [
              "[<matplotlib.lines.Line2D at 0x7f7c42a563e0>]"
            ]
          },
          "metadata": {},
          "execution_count": 15
        },
        {
          "output_type": "display_data",
          "data": {
            "text/plain": [
              "<Figure size 640x480 with 1 Axes>"
            ],
            "image/png": "[encoded data removed]"
          },
          "metadata": {}
        }
      ]
    }
  ]
}